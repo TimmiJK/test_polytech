{
  "nbformat": 4,
  "nbformat_minor": 0,
  "metadata": {
    "colab": {
      "name": "2020.10.22_class.ipynb",
      "provenance": [],
      "collapsed_sections": [],
      "authorship_tag": "ABX9TyN2pFjXsBnwYcV4MsdwFNYE",
      "include_colab_link": true
    },
    "kernelspec": {
      "name": "python3",
      "display_name": "Python 3"
    }
  },
  "cells": [
    {
      "cell_type": "markdown",
      "metadata": {
        "id": "view-in-github",
        "colab_type": "text"
      },
      "source": [
        "<a href=\"https://colab.research.google.com/github/TimmiJK/test_polytech/blob/report/2020_10_22_class.ipynb\" target=\"_parent\"><img src=\"https://colab.research.google.com/assets/colab-badge.svg\" alt=\"Open In Colab\"/></a>"
      ]
    },
    {
      "cell_type": "markdown",
      "metadata": {
        "id": "M1YP7WwnyLVp"
      },
      "source": [
        "**Classes**\n",
        "\n",
        "Максим Багаев\n",
        "\n",
        "**Задание**\n",
        "\n",
        "Вывести номер экрана на на котором находится это приложение\n",
        "\n",
        "**Решение**"
      ]
    },
    {
      "cell_type": "code",
      "metadata": {
        "id": "8zOP0WKUuljy",
        "outputId": "c266ae6b-0f9f-4cfa-eb37-05ae023613e5",
        "colab": {
          "base_uri": "https://localhost:8080/"
        }
      },
      "source": [
        "class Telephone:\n",
        "#Присваиваем телефону его свойства через функцию\n",
        "    def __init__(self):\n",
        "        self.screen=0\n",
        "        self.apps = [\n",
        "        [\"Google\", \"Yandex Disk\", \"Calculator\", \"Microsoft teams\",\"Zoom\"],\n",
        "        [\"Games\", \"Discord\", \"VK\", \"Telegram\"],\n",
        "        [\"Google Drive\", \"Notepad\", \"Youtube\"]\n",
        "        ]\n",
        "    def Give_me_a_number_of_screens(self):\n",
        "        return len(self.apps)\n",
        "    def Give_me_a_screen_number(self):\n",
        "        return self.screen\n",
        "    def Go_to_the_next_screen(self):\n",
        "        self.screen = (self.screen + 1)%(len(self.apps))\n",
        "    def Give_me_a_name_of_the_app_o_this_place(self, position):\n",
        "        if position < len(self.apps[self.screen]):\n",
        "            return self.apps[self.screen][positon]\n",
        "#Ищем координаты приложения(номер экрана и позиция на этом экране), если такого приложения нет то выводится 'No such app on this telephone'\n",
        "    def Search_position_of_the_app(self, appname):\n",
        "        result = 'No such app on this telephone'\n",
        "        for i in range(len(self.apps)):\n",
        "            for j in range(len(self.apps[i])):\n",
        "                if self.apps[i][j] == appname:\n",
        "                        result = [i, j]\n",
        "        return result\n",
        "Phone = Telephone()\n",
        "print(Phone.Search_position_of_the_app(\"VK\"))"
      ],
      "execution_count": null,
      "outputs": [
        {
          "output_type": "stream",
          "text": [
            "[1, 2]\n"
          ],
          "name": "stdout"
        }
      ]
    }
  ]
}