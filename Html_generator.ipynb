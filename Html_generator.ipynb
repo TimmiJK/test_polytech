{
  "nbformat": 4,
  "nbformat_minor": 0,
  "metadata": {
    "colab": {
      "name": "Html_generator.ipynb",
      "provenance": [],
      "authorship_tag": "ABX9TyOFrI6ibelSWnMYecTAUJbB",
      "include_colab_link": true
    },
    "kernelspec": {
      "name": "python3",
      "display_name": "Python 3"
    }
  },
  "cells": [
    {
      "cell_type": "markdown",
      "metadata": {
        "id": "view-in-github",
        "colab_type": "text"
      },
      "source": [
        "<a href=\"https://colab.research.google.com/github/TimmiJK/test_polytech/blob/Python/Html_generator.ipynb\" target=\"_parent\"><img src=\"https://colab.research.google.com/assets/colab-badge.svg\" alt=\"Open In Colab\"/></a>"
      ]
    },
    {
      "cell_type": "markdown",
      "metadata": {
        "id": "F1PpwdSq-UXw"
      },
      "source": [
        "генератор HTML тегов\r\n",
        "\r\n",
        "Решение:"
      ]
    },
    {
      "cell_type": "code",
      "metadata": {
        "colab": {
          "base_uri": "https://localhost:8080/"
        },
        "id": "uRFAEtlX-SQl",
        "outputId": "f73cf3ad-5b8b-411b-ff9b-604623cb1caa"
      },
      "source": [
        "class Html:\r\n",
        "    def __init__(self, array):\r\n",
        "        self.html = ''.join(str(e) for e in array)\r\n",
        "\r\n",
        "    def generate(self):\r\n",
        "        html_code = \"<html>\\n\" + str(self.html) + \"</html>\"\r\n",
        "        print(html_code)\r\n",
        "\r\n",
        "\r\n",
        "class Head:\r\n",
        "    def __init__(self, array):\r\n",
        "        self.head = ''.join(str(e) for e in array)\r\n",
        "\r\n",
        "    def __str__(self):\r\n",
        "        Head_code = \"<head>\\n\"+str(self.head)+\"</head>\\n\"\r\n",
        "        return Head_code\r\n",
        "\r\n",
        "\r\n",
        "class Title:\r\n",
        "    def __init__(self, title_text):\r\n",
        "        self.title = title_text\r\n",
        "\r\n",
        "    def __str__(self):\r\n",
        "        title_code = \"<title>\"+str(self.title)+\"</title>\\n\"\r\n",
        "        return title_code\r\n",
        "\r\n",
        "\r\n",
        "class Meta:\r\n",
        "    def __init__(self, type, text):\r\n",
        "        self.type = type\r\n",
        "        self.text = text\r\n",
        "\r\n",
        "    def __str__(self):\r\n",
        "        meta_code = \"<meta \"+ str(self.type)+\"=\"+'\"'+str(self.text)+'\">\\n'\r\n",
        "        return meta_code\r\n",
        "\r\n",
        "\r\n",
        "\r\n",
        "class Style:\r\n",
        "    def __init__(self, parametr, type):\r\n",
        "        self.style = parametr\r\n",
        "        self.type = type\r\n",
        "\r\n",
        "    def __str__(self):\r\n",
        "        style_code = \"<style type='\"+str(self.type)+\"'>\"+str(self.style)+\"</style>\"\r\n",
        "        return style_code\r\n",
        "\r\n",
        "\r\n",
        "class Body:\r\n",
        "    def __init__(self, array):\r\n",
        "        self.body = ''.join(str(e) for e in array)\r\n",
        "\r\n",
        "    def __str__(self):\r\n",
        "        body_code = \"<body>\\n\"+str(self.body)+\"</body>\\n\"\r\n",
        "        return body_code\r\n",
        "\r\n",
        "\r\n",
        "class Div:\r\n",
        "    def __init__(self, array):\r\n",
        "        self.length = len(array)\r\n",
        "        self.div = ''.join(str(e) for e in array)\r\n",
        "\r\n",
        "    def __str__(self):\r\n",
        "        div_code = \"<div>\"+str(self.div)+\"</div>\\n\"\r\n",
        "        return div_code\r\n",
        "\r\n",
        "class P:\r\n",
        "    def __init__(self, text):\r\n",
        "        self.p = text\r\n",
        "\r\n",
        "    def __str__(self):\r\n",
        "        tagP_code = \"<p>\"+str(self.p)+\"</p>\"\r\n",
        "        return tagP_code\r\n",
        "\r\n",
        "class Img:\r\n",
        "    def __init__(self, photo):\r\n",
        "        self.img = photo\r\n",
        "\r\n",
        "    def __str__(self):\r\n",
        "        img_code = \"<img>\"+str(self.img)+\"</img>\"\r\n",
        "        return img_code\r\n",
        "\r\n",
        "\r\n",
        "class A:\r\n",
        "    def __init__(self, link, text):\r\n",
        "        self.tagA = link\r\n",
        "        self.text = text\r\n",
        "\r\n",
        "    def __str__(self):\r\n",
        "        tagA_code = \"<a href='\"+str(self.tagA)+\"'>\"+str(self.text)+\"</a>\"\r\n",
        "        return tagA_code\r\n",
        "\r\n",
        "\r\n",
        "class Code:\r\n",
        "    def __init__(self, text):\r\n",
        "        self.code = text\r\n",
        "\r\n",
        "    def __str__(self):\r\n",
        "        code_text = \"<code>\"+str(self.code)+\"</code>\"\r\n",
        "        return code_text\r\n",
        "\r\n",
        "\r\n",
        "page = Html([Head([Meta('author', 'Maxim Bagaev'), Title('The Kingdom')]), Body([Div([P('Text'), Code('for i in range(8)'), Img('Path'), A('https', 'click') ])])])\r\n",
        "page.generate()"
      ],
      "execution_count": 1,
      "outputs": [
        {
          "output_type": "stream",
          "text": [
            "<html>\n",
            "<head>\n",
            "<meta author=\"Maxim Bagaev\">\n",
            "<title>The Kingdom</title>\n",
            "</head>\n",
            "<body>\n",
            "<div><p>Text</p><code>for i in range(8)</code><img>Path</img><a href='https'>click</a></div>\n",
            "</body>\n",
            "</html>\n"
          ],
          "name": "stdout"
        }
      ]
    }
  ]
}